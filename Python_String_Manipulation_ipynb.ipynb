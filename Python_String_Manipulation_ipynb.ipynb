{
  "cells": [
    {
      "cell_type": "markdown",
      "metadata": {
        "id": "view-in-github",
        "colab_type": "text"
      },
      "source": [
        "<a href=\"https://colab.research.google.com/github/SURESHBEEKHANI/AIChatBotHub/blob/main/Python_String_Manipulation_ipynb.ipynb\" target=\"_parent\"><img src=\"https://colab.research.google.com/assets/colab-badge.svg\" alt=\"Open In Colab\"/></a>"
      ]
    },
    {
      "cell_type": "code",
      "execution_count": 1,
      "metadata": {
        "colab": {
          "base_uri": "https://localhost:8080/"
        },
        "id": "lIYdn1woOS1n",
        "outputId": "bfb06c62-259e-4d92-ca87-e9b401ed33ba"
      },
      "outputs": [
        {
          "output_type": "stream",
          "name": "stdout",
          "text": [
            "Suresh Beekhani Data Scientist and ML Engineer \n"
          ]
        }
      ],
      "source": [
        "# Use the print method to display the following string\n",
        "print(\"Suresh Beekhani Data Scientist and ML Engineer \")\n"
      ]
    },
    {
      "cell_type": "code",
      "source": [
        "# Assigning a string to the variable 'a'\n",
        "a = \"Suresh Beekhani as a data SCIENTIST and ML Engineer\"\n",
        "\n",
        "# Displaying the content of the variable 'a' using the print function\n",
        "print(a)\n"
      ],
      "metadata": {
        "colab": {
          "base_uri": "https://localhost:8080/"
        },
        "id": "B8aEjyb1W9gX",
        "outputId": "18ab5518-0a53-41de-e7b4-1d8dd198b09c"
      },
      "execution_count": 2,
      "outputs": [
        {
          "output_type": "stream",
          "name": "stdout",
          "text": [
            "Suresh Beekhani as a data SCIENTIST and ML Engineer\n"
          ]
        }
      ]
    },
    {
      "cell_type": "code",
      "source": [
        "# This variable contains a multiline string\n",
        "Var = \"\"\"These examples cover various scenarios of splitting strings and lists\n",
        "in Python. If you have a specific use case or scenario in mind, feel free\n",
        "to provide more details for a more tailored example!\n",
        "\"\"\"\n",
        "\n",
        "# Print the content of the variable\n",
        "print(Var)  # Display the content of the variable\n"
      ],
      "metadata": {
        "colab": {
          "base_uri": "https://localhost:8080/"
        },
        "id": "2O74jqC-bv2Q",
        "outputId": "a84ed662-d0ba-464c-8f10-a245bc8b6c4e"
      },
      "execution_count": 3,
      "outputs": [
        {
          "output_type": "stream",
          "name": "stdout",
          "text": [
            "These examples cover various scenarios of splitting strings and lists\n",
            "in Python. If you have a specific use case or scenario in mind, feel free\n",
            "to provide more details for a more tailored example!\n",
            "\n"
          ]
        }
      ]
    },
    {
      "cell_type": "code",
      "source": [
        "#Use Upercase Methed and Make all Words in string  Show Upercase\n",
        "upercase=a\n",
        "print(upercase.upper())"
      ],
      "metadata": {
        "colab": {
          "base_uri": "https://localhost:8080/"
        },
        "id": "BPm65VVqYIlX",
        "outputId": "ba42f093-ca73-4990-f7e5-40855180a305"
      },
      "execution_count": 4,
      "outputs": [
        {
          "output_type": "stream",
          "name": "stdout",
          "text": [
            "SURESH BEEKHANI AS A DATA SCIENTIST AND ML ENGINEER\n"
          ]
        }
      ]
    },
    {
      "cell_type": "code",
      "source": [
        "#Use Lower case Methed and Make all Word in  lowerCase\n",
        "lowercase=a\n",
        "print(lowercase.lower())"
      ],
      "metadata": {
        "colab": {
          "base_uri": "https://localhost:8080/"
        },
        "id": "FxE0VXSSY4Fl",
        "outputId": "9ba8cb9e-2ce2-4a06-f481-f6c34cfdcf1e"
      },
      "execution_count": 5,
      "outputs": [
        {
          "output_type": "stream",
          "name": "stdout",
          "text": [
            "suresh beekhani as a data scientist and ml engineer\n"
          ]
        }
      ]
    },
    {
      "cell_type": "code",
      "source": [
        "#Use Split Methed and convert String into List\n",
        "split=a\n",
        "print(split.split(\",\"))"
      ],
      "metadata": {
        "colab": {
          "base_uri": "https://localhost:8080/"
        },
        "id": "zUd03W6mZoo9",
        "outputId": "1a2675dd-eb94-45a3-f06d-f83c403215dd"
      },
      "execution_count": 6,
      "outputs": [
        {
          "output_type": "stream",
          "name": "stdout",
          "text": [
            "['Suresh Beekhani as a data SCIENTIST and ML Engineer']\n"
          ]
        }
      ]
    },
    {
      "cell_type": "code",
      "source": [
        "#Use Capitalize Methed and Disply first Word of String\n",
        "Capliaztion=a\n",
        "print(Capliaztion.capitalize())\n"
      ],
      "metadata": {
        "colab": {
          "base_uri": "https://localhost:8080/"
        },
        "id": "rgciqN8NbpVU",
        "outputId": "c897e39d-31b9-40bb-97ae-3f6336caba8b"
      },
      "execution_count": 7,
      "outputs": [
        {
          "output_type": "stream",
          "name": "stdout",
          "text": [
            "Suresh beekhani as a data scientist and ml engineer\n"
          ]
        }
      ]
    },
    {
      "cell_type": "code",
      "source": [
        "#Use Replace Methed and Replace character \"S\" into \"K\" in All Sentences\n",
        "replace=a\n",
        "print(replace.replace(\"S\",\"K\"))"
      ],
      "metadata": {
        "colab": {
          "base_uri": "https://localhost:8080/"
        },
        "id": "kQRm0940eHkL",
        "outputId": "37e669ab-c491-4d0d-8245-e50370c3cfc7"
      },
      "execution_count": 8,
      "outputs": [
        {
          "output_type": "stream",
          "name": "stdout",
          "text": [
            "Kuresh Beekhani as a data KCIENTIKT and ML Engineer\n"
          ]
        }
      ]
    },
    {
      "cell_type": "code",
      "source": [
        "#Use Replace Methed and Replace character \"Ml \" into \"DL\" in All Sentences\n",
        "replace=a\n",
        "print(replace.replace(\"ML \",\"DL\"))"
      ],
      "metadata": {
        "colab": {
          "base_uri": "https://localhost:8080/"
        },
        "id": "l6HDuXHqfpQE",
        "outputId": "cc6b4f10-07ea-4188-cafb-6106e4aa1ebe"
      },
      "execution_count": 9,
      "outputs": [
        {
          "output_type": "stream",
          "name": "stdout",
          "text": [
            "Suresh Beekhani as a data SCIENTIST and DLEngineer\n"
          ]
        }
      ]
    },
    {
      "cell_type": "code",
      "source": [
        "#Use CaseFlod Disply all Sentence of  characters in Lowercase\n",
        "caseflod = a\n",
        "print(caseflod.casefold())\n"
      ],
      "metadata": {
        "colab": {
          "base_uri": "https://localhost:8080/"
        },
        "id": "2X4W23NHf9fF",
        "outputId": "03711721-9ec5-48ad-bb6f-fa51f10dd7e1"
      },
      "execution_count": 10,
      "outputs": [
        {
          "output_type": "stream",
          "name": "stdout",
          "text": [
            "suresh beekhani as a data scientist and ml engineer\n"
          ]
        }
      ]
    },
    {
      "cell_type": "code",
      "source": [
        "#Use Strip Methed and Remved Space Form stard _Ending Sentence\n",
        "strip = a\n",
        "print(strip.strip())"
      ],
      "metadata": {
        "colab": {
          "base_uri": "https://localhost:8080/"
        },
        "id": "hojWXVeehr8_",
        "outputId": "2c2fa8fa-16a6-4aef-ee83-bad0e9077f0a"
      },
      "execution_count": 11,
      "outputs": [
        {
          "output_type": "stream",
          "name": "stdout",
          "text": [
            "Suresh Beekhani as a data SCIENTIST and ML Engineer\n"
          ]
        }
      ]
    },
    {
      "cell_type": "code",
      "source": [
        "#Use Title Methed and Make  first Charchter of each Words in string Show the  Uppercase\n",
        "title = a\n",
        "print(title.title())"
      ],
      "metadata": {
        "colab": {
          "base_uri": "https://localhost:8080/"
        },
        "id": "SxL5Gi_eip8E",
        "outputId": "b649f063-39f8-4c73-a636-6b14cae0d760"
      },
      "execution_count": 12,
      "outputs": [
        {
          "output_type": "stream",
          "name": "stdout",
          "text": [
            "Suresh Beekhani As A Data Scientist And Ml Engineer\n"
          ]
        }
      ]
    },
    {
      "cell_type": "code",
      "source": [
        "#Use Count Methed and Count \"A\" character in Sentence\n",
        "count = a\n",
        "print(count.count(\"a\"))"
      ],
      "metadata": {
        "colab": {
          "base_uri": "https://localhost:8080/"
        },
        "id": "yduqPN4akFKP",
        "outputId": "93d2c6cb-e22c-4d3f-f1de-94f554143c9c"
      },
      "execution_count": 13,
      "outputs": [
        {
          "output_type": "stream",
          "name": "stdout",
          "text": [
            "6\n"
          ]
        }
      ]
    },
    {
      "cell_type": "code",
      "source": [
        "#Use Count Methed and Count \"data \" Word in Sentence\n",
        "count = a\n",
        "print(count.count(\"data\"))"
      ],
      "metadata": {
        "colab": {
          "base_uri": "https://localhost:8080/"
        },
        "id": "9v3vIez5k5oB",
        "outputId": "90bd70be-773f-47aa-cb65-850212eb7ec7"
      },
      "execution_count": 14,
      "outputs": [
        {
          "output_type": "stream",
          "name": "stdout",
          "text": [
            "1\n"
          ]
        }
      ]
    },
    {
      "cell_type": "code",
      "source": [
        "#Use Count Methed and Count all Charchter  in Sentence\n",
        "count = a\n",
        "print(count.count(\"\"))"
      ],
      "metadata": {
        "colab": {
          "base_uri": "https://localhost:8080/"
        },
        "id": "Rf8Focv0lEgE",
        "outputId": "b4057b7d-4c00-411a-af9c-ca63a1573be4"
      },
      "execution_count": 15,
      "outputs": [
        {
          "output_type": "stream",
          "name": "stdout",
          "text": [
            "52\n"
          ]
        }
      ]
    },
    {
      "cell_type": "code",
      "source": [
        "#Use Center Methed all sentences alignments in Center\n",
        "center = a\n",
        "print(center.center(100))"
      ],
      "metadata": {
        "colab": {
          "base_uri": "https://localhost:8080/"
        },
        "id": "jt8Y8WQNlQwI",
        "outputId": "2deafbf4-a735-4cf8-9aa4-ffa23a6b836a"
      },
      "execution_count": 16,
      "outputs": [
        {
          "output_type": "stream",
          "name": "stdout",
          "text": [
            "                        Suresh Beekhani as a data SCIENTIST and ML Engineer                         \n"
          ]
        }
      ]
    },
    {
      "cell_type": "code",
      "source": [
        "#Use Type methed and Disply Type Objects\n",
        "print(type(a))"
      ],
      "metadata": {
        "colab": {
          "base_uri": "https://localhost:8080/"
        },
        "id": "yA10WxO-l7kn",
        "outputId": "5d953864-25c9-4cc3-ba90-38d7a5f6a9a7"
      },
      "execution_count": 17,
      "outputs": [
        {
          "output_type": "stream",
          "name": "stdout",
          "text": [
            "<class 'str'>\n"
          ]
        }
      ]
    },
    {
      "cell_type": "code",
      "source": [
        "# Using the swapcase() method to swap the case of letters in a string\n",
        "Swapcase = a\n",
        "print(Swapcase.swapcase())  # Prints the string with uppercase letters turned into lowercase and vice versa\n"
      ],
      "metadata": {
        "colab": {
          "base_uri": "https://localhost:8080/"
        },
        "id": "lrLpr9jfnEBI",
        "outputId": "81dff94a-f2b4-4f08-a86a-cd98d4b6d63f"
      },
      "execution_count": 18,
      "outputs": [
        {
          "output_type": "stream",
          "name": "stdout",
          "text": [
            "sURESH bEEKHANI AS A DATA scientist AND ml eNGINEER\n"
          ]
        }
      ]
    },
    {
      "cell_type": "code",
      "source": [
        "# Convert string to list using split()\n",
        "tuple_data =list(a.split())\n",
        "# Combine the elements of the tuple into a single string without spaces between sentences\n",
        "joined_string = \"\".join(tuple_data)\n",
        "\n",
        "# Print the result\n",
        "print(joined_string)\n",
        "\n"
      ],
      "metadata": {
        "colab": {
          "base_uri": "https://localhost:8080/"
        },
        "id": "2QUHsUF8pA16",
        "outputId": "ac610eda-9e39-450d-d84a-001dcc824209"
      },
      "execution_count": 19,
      "outputs": [
        {
          "output_type": "stream",
          "name": "stdout",
          "text": [
            "SureshBeekhaniasadataSCIENTISTandMLEngineer\n"
          ]
        }
      ]
    },
    {
      "cell_type": "code",
      "source": [
        "# Convert string to tuple using split()\n",
        "tuple_data = tuple(a.split())\n",
        "# Use the join method to remove spaces between all the words in the sentence\n",
        "Joine = \"\".join(tuple_data)\n",
        "print(Joine)  # Print the result after joining the words without spaces\n"
      ],
      "metadata": {
        "colab": {
          "base_uri": "https://localhost:8080/"
        },
        "id": "qgOs1V13N1eO",
        "outputId": "6f05418c-3839-4836-a82c-81aa13949c29"
      },
      "execution_count": 20,
      "outputs": [
        {
          "output_type": "stream",
          "name": "stdout",
          "text": [
            "SureshBeekhaniasadataSCIENTISTandMLEngineer\n"
          ]
        }
      ]
    },
    {
      "cell_type": "code",
      "source": [
        "# Assign Value Of \"a\" Varible to \"my_staring\" Varible\n",
        "my_string = a\n",
        "#Use Print and len Methed and Disply Len Of my string Latters\n",
        "print(len(my_string))"
      ],
      "metadata": {
        "colab": {
          "base_uri": "https://localhost:8080/"
        },
        "id": "ygOB6_JJSyyM",
        "outputId": "e7f8a369-b823-4a8f-b2a9-78c822238c78"
      },
      "execution_count": 21,
      "outputs": [
        {
          "output_type": "stream",
          "name": "stdout",
          "text": [
            "51\n"
          ]
        }
      ]
    },
    {
      "cell_type": "code",
      "source": [
        "#Use Find Methed the index Postion  of the substring \"World\" in the string Sentence\n",
        "my_string=\"Hello,World\"\n",
        "index = my_string.find(\"World\")\n",
        "\n",
        "# Print the result\n",
        "print(index)#Output"
      ],
      "metadata": {
        "id": "N89BMftWj9zZ",
        "outputId": "1677dce6-c7e2-45a6-b192-919fbeb02caa",
        "colab": {
          "base_uri": "https://localhost:8080/"
        }
      },
      "execution_count": 22,
      "outputs": [
        {
          "output_type": "stream",
          "name": "stdout",
          "text": [
            "6\n"
          ]
        }
      ]
    },
    {
      "cell_type": "code",
      "source": [
        "# Use a variable named 'string' and assign a value of string data type to it\n",
        "string = \"Suresh Beekhani Ceo Of Insights Swape\"\n",
        "\n",
        "# Use the 'encode' method to convert the string into a format that computers can understand (encoding)\n",
        "encoded_string = string.encode()\n",
        "\n",
        "# Print the encoded information\n",
        "print(encoded_string)\n"
      ],
      "metadata": {
        "colab": {
          "base_uri": "https://localhost:8080/"
        },
        "id": "cH4-KU_WXiTe",
        "outputId": "e9f7e898-686b-4317-fac2-d6aa21621c2a"
      },
      "execution_count": 49,
      "outputs": [
        {
          "output_type": "stream",
          "name": "stdout",
          "text": [
            "b'Suresh Beekhani Ceo Of Insights Swape'\n"
          ]
        }
      ]
    },
    {
      "cell_type": "code",
      "source": [
        "# Assign a string to the variable named 'String'\n",
        "String = \"Suresh Beekhani Is a Ceo Of Insifgt Swapi >\"\n",
        "\n",
        "# Use the 'endswith' method to check if the string ends with the specified symbol (\">\")\n",
        "String1 = String.endswith(\">\")\n",
        "\n",
        "# Print the boolean result of the 'endswith' check\n",
        "print(String1)"
      ],
      "metadata": {
        "colab": {
          "base_uri": "https://localhost:8080/"
        },
        "id": "arIGAbBraxxG",
        "outputId": "b785ed88-a90d-449d-dc5e-58a838351058"
      },
      "execution_count": 51,
      "outputs": [
        {
          "output_type": "stream",
          "name": "stdout",
          "text": [
            "True\n"
          ]
        }
      ]
    },
    {
      "cell_type": "code",
      "source": [
        "# Assign a string with tabs to the variable named 'string'\n",
        "string = \"H\\te\\tl\\tl\\to\"\n",
        "\n",
        "# Use the 'expandtabs' method with a tab size of 2 to replace tabs with spaces in the string\n",
        "expanded_string = string.expandtabs(2)\n",
        "\n",
        "# Print the resulting string after expanding tabs\n",
        "print(expanded_string)\n"
      ],
      "metadata": {
        "colab": {
          "base_uri": "https://localhost:8080/"
        },
        "id": "orlHr6a0gmJa",
        "outputId": "e76fb5c9-d361-46d7-e440-ccbb010a46ed"
      },
      "execution_count": 64,
      "outputs": [
        {
          "output_type": "stream",
          "name": "stdout",
          "text": [
            "H e l l o\n"
          ]
        }
      ]
    },
    {
      "cell_type": "code",
      "source": [],
      "metadata": {
        "id": "UGG0tGV8m0tz"
      },
      "execution_count": null,
      "outputs": []
    }
  ],
  "metadata": {
    "colab": {
      "provenance": [],
      "name": "Python String Manipulation. ipynb",
      "toc_visible": true,
      "include_colab_link": true
    },
    "kernelspec": {
      "display_name": "Python 3",
      "name": "python3"
    }
  },
  "nbformat": 4,
  "nbformat_minor": 0
}